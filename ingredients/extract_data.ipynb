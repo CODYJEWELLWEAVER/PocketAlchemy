{
 "cells": [
  {
   "cell_type": "markdown",
   "metadata": {},
   "source": [
    "# Extract USDA FoodData"
   ]
  },
  {
   "cell_type": "code",
   "execution_count": 1,
   "metadata": {},
   "outputs": [],
   "source": [
    "import data_util\n",
    "import json"
   ]
  },
  {
   "cell_type": "code",
   "execution_count": 2,
   "metadata": {},
   "outputs": [],
   "source": [
    "# read data \n",
    "foundation_food_file_path = \"data/raw/FoodData_Central_foundation_food_json_2023-04-20/foundationFoods.json\"\n",
    "legacy_food_file_path = \"data/raw/FoodData_Central_sr_legacy_food_json_2018-04/FoodData_Central_sr_legacy_food_json_2021-10-28.json\"\n",
    "\n",
    "with open(foundation_food_file_path) as in_file:\n",
    "    foundation_food_data = json.load(in_file)\n",
    "\n",
    "with open(legacy_food_file_path) as in_file:\n",
    "    legacy_food_data = json.load(in_file)"
   ]
  },
  {
   "cell_type": "code",
   "execution_count": 3,
   "metadata": {},
   "outputs": [],
   "source": [
    "# extract ingredient data\n",
    "foundation_food_ingredients: list[dict] = data_util.extract_ingredients(foundation_food_data.get(\"FoundationFoods\"))\n",
    "legacy_food_ingredients: list[dict] = data_util.extract_ingredients(legacy_food_data.get(\"SRLegacyFoods\"))"
   ]
  },
  {
   "cell_type": "code",
   "execution_count": 4,
   "metadata": {},
   "outputs": [],
   "source": [
    "# combine ingredient lists\n",
    "combined_ingredients: list[dict] = foundation_food_ingredients + legacy_food_ingredients"
   ]
  },
  {
   "cell_type": "markdown",
   "metadata": {},
   "source": [
    "### Write intermediate data to _data/extracted_."
   ]
  },
  {
   "cell_type": "code",
   "execution_count": 5,
   "metadata": {},
   "outputs": [],
   "source": [
    "combined_ingredients_json: str = json.dumps(combined_ingredients)\n",
    "\n",
    "with open(\"data/intermediate/extracted_ingredients.json\", \"w+\") as outfile:\n",
    "    outfile.write(combined_ingredients_json)"
   ]
  }
 ],
 "metadata": {
  "kernelspec": {
   "display_name": ".venv",
   "language": "python",
   "name": "python3"
  },
  "language_info": {
   "codemirror_mode": {
    "name": "ipython",
    "version": 3
   },
   "file_extension": ".py",
   "mimetype": "text/x-python",
   "name": "python",
   "nbconvert_exporter": "python",
   "pygments_lexer": "ipython3",
   "version": "3.11.7"
  }
 },
 "nbformat": 4,
 "nbformat_minor": 2
}
