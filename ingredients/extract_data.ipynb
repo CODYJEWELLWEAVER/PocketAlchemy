{
 "cells": [
  {
   "cell_type": "markdown",
   "metadata": {},
   "source": [
    "# extract_data.ipynb\n",
    "\n",
    "This notebook reads USDA FoodData source files and creates ingredient objects from the raw food data and writes the object data into _data/extracted_ to be further validated and processed.\n",
    "See _validate_data.ipynb_ for further information."
   ]
  },
  {
   "cell_type": "code",
   "execution_count": 1,
   "metadata": {},
   "outputs": [],
   "source": [
    "import data_util\n",
    "import json"
   ]
  },
  {
   "cell_type": "code",
   "execution_count": 2,
   "metadata": {},
   "outputs": [],
   "source": [
    "# read data \n",
    "foundation_food_file = open(\"data/raw/FoodData_Central_foundation_food_json_2023-04-20/foundationFoods.json\")\n",
    "legacy_food_file = open(\"data/raw/FoodData_Central_sr_legacy_food_json_2018-04/FoodData_Central_sr_legacy_food_json_2021-10-28.json\")\n",
    "\n",
    "foundation_food_data: dict = json.load(foundation_food_file)\n",
    "legacy_food_data: dict = json.load(legacy_food_file)\n",
    "\n",
    "foundation_food_file.close()\n",
    "legacy_food_file.close()"
   ]
  },
  {
   "cell_type": "code",
   "execution_count": 3,
   "metadata": {},
   "outputs": [],
   "source": [
    "# extract ingredient data\n",
    "foundation_food_ingredients: list[dict] = data_util.extractIngredients(foundation_food_data.get(\"FoundationFoods\"))\n",
    "legacy_food_ingredients: list[dict] = data_util.extractIngredients(legacy_food_data.get(\"SRLegacyFoods\"))"
   ]
  },
  {
   "cell_type": "code",
   "execution_count": 8,
   "metadata": {},
   "outputs": [],
   "source": [
    "# combine ingredient lists\n",
    "combined_ingredients: list[dict] = foundation_food_ingredients + legacy_food_ingredients"
   ]
  },
  {
   "cell_type": "markdown",
   "metadata": {},
   "source": [
    "### Write intermediate data to _data/extracted_."
   ]
  },
  {
   "cell_type": "code",
   "execution_count": 10,
   "metadata": {},
   "outputs": [],
   "source": [
    "combined_ingredients_json: str = json.dumps(combined_ingredients)\n",
    "\n",
    "with open(\"data/intermediate/extracted_ingredients.json\", \"w+\") as outfile:\n",
    "    outfile.write(combined_ingredients_json)\n",
    "    outfile.close()"
   ]
  },
  {
   "cell_type": "markdown",
   "metadata": {},
   "source": [
    "See _filter_data.ipynb_ for next steps."
   ]
  }
 ],
 "metadata": {
  "kernelspec": {
   "display_name": ".venv",
   "language": "python",
   "name": "python3"
  },
  "language_info": {
   "codemirror_mode": {
    "name": "ipython",
    "version": 3
   },
   "file_extension": ".py",
   "mimetype": "text/x-python",
   "name": "python",
   "nbconvert_exporter": "python",
   "pygments_lexer": "ipython3",
   "version": "3.11.7"
  }
 },
 "nbformat": 4,
 "nbformat_minor": 2
}
