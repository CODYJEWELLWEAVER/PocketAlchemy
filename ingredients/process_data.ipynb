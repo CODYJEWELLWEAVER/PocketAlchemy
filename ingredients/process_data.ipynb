{
 "cells": [
  {
   "cell_type": "markdown",
   "metadata": {},
   "source": [
    "# process_data.ipynb\n",
    "\n",
    "Filters extracted ingredients to remove unwanted categories and branded products.\n",
    "After filtering ingredient descriptions are doctored to reduce overall length improve readability."
   ]
  },
  {
   "cell_type": "code",
   "execution_count": 1,
   "metadata": {},
   "outputs": [],
   "source": [
    "import json\n",
    "import data_util\n",
    "from constants import DESCRIPTION_KEY"
   ]
  },
  {
   "cell_type": "code",
   "execution_count": 2,
   "metadata": {},
   "outputs": [],
   "source": [
    "# loads extracted ingredients\n",
    "with open(\"data/intermediate/extracted_ingredients.json\") as in_file:\n",
    "    extracted_ingredient_data = json.load(in_file)"
   ]
  },
  {
   "cell_type": "markdown",
   "metadata": {},
   "source": [
    "Filters ingredients and updates descriptions."
   ]
  },
  {
   "cell_type": "code",
   "execution_count": 3,
   "metadata": {},
   "outputs": [],
   "source": [
    "# filters ingredient data to remove branded data and categories in constants.EXCLUDED_CATEGORIES\n",
    "filtered_ingredient_data: list[dict] = data_util.filter_ingredients(extracted_ingredient_data)\n",
    "\n",
    "# doctors ingredient descriptions\n",
    "for ingredient in filtered_ingredient_data:\n",
    "    data_util.update_description(ingredient)"
   ]
  },
  {
   "cell_type": "markdown",
   "metadata": {},
   "source": [
    "Checks for duplicate ingredient descriptions and merges duplicates."
   ]
  },
  {
   "cell_type": "code",
   "execution_count": 4,
   "metadata": {},
   "outputs": [
    {
     "name": "stdout",
     "output_type": "stream",
     "text": [
      "INFO:  22  duplicates removed!\n",
      "INFO:  171  duplicates left in processed data!\n"
     ]
    }
   ],
   "source": [
    "# group entries by description\n",
    "num_duplicates = 0\n",
    "descriptions = dict()\n",
    "\n",
    "for ingredient in filtered_ingredient_data:\n",
    "    description: str = ingredient.get(DESCRIPTION_KEY)\n",
    "    if description in descriptions:\n",
    "        ingredients: list[dict] = descriptions[description]\n",
    "        ingredients.append(ingredient)\n",
    "        num_duplicates += 1\n",
    "    else:\n",
    "        descriptions[description] = [ ingredient ] \n",
    "\n",
    "# conservatively tries to resolve descriptions with multiple\n",
    "# entries to a single entry, see data_util.resolve_multiples\n",
    "resolved_ingredient_data = []\n",
    "\n",
    "for key in descriptions.keys():\n",
    "    ingredients = descriptions[key]\n",
    "    if len(ingredients) > 1:\n",
    "        resolved = data_util.resolve_multiple(ingredients)\n",
    "        for ing in resolved:\n",
    "            resolved_ingredient_data.append(ing)\n",
    "    else:\n",
    "        resolved_ingredient_data.append(ingredients[0])\n",
    "\n",
    "\n",
    "\n",
    "num_duplicates_removed = len(filtered_ingredient_data) - len(resolved_ingredient_data)\n",
    "num_duplicates = num_duplicates - num_duplicates_removed\n",
    "\n",
    "print(\"INFO: \", num_duplicates_removed, \" duplicates removed!\")\n",
    "print(\"INFO: \", num_duplicates, \" duplicates left in processed data!\")"
   ]
  },
  {
   "cell_type": "markdown",
   "metadata": {},
   "source": [
    "Writes filtered and resolved ingredients to intermediate file."
   ]
  },
  {
   "cell_type": "code",
   "execution_count": 6,
   "metadata": {},
   "outputs": [
    {
     "name": "stdout",
     "output_type": "stream",
     "text": [
      "{'description': 'Tomatoes, grape, raw', 'fdcId': 321360, 'category': 'Vegetables and Vegetable Products', 'calories': {'value': 27.0, 'unit': 'kcal'}, 'protein': {'value': 0.83, 'unit': 'g'}, 'carbs': {'value': 5.51, 'unit': 'g'}, 'fat': {'value': 0.63, 'unit': 'g'}, 'sodium': {'value': 6.0, 'unit': 'mg'}, 'sugars': {}, 'fiber': {'value': 2.1, 'unit': 'g'}, 'measures': [{'value': 5.0, 'unit': 'tomatoes', 'gWeight': 49.7}, {'value': 1.0, 'unit': 'cup', 'gWeight': 152.0}], 'keywords': ['t', 'to', 'tom', 'toma', 'tomat', 'tomato', 'tomatoe', 'tomatoes', 'o', 'om', 'oma', 'omat', 'omato', 'omatoe', 'omatoes', 'g', 'gr', 'gra', 'grap', 'grape', 'r', 'ra', 'rap', 'rape', 'r', 'ra', 'raw', 'a', 'aw']}\n"
     ]
    }
   ],
   "source": [
    "# Writes filtered ingredients to intermediate/processed_ingredients.json\n",
    "processed_ingredient_json = json.dumps(resolved_ingredient_data)\n",
    "\n",
    "with open(\"data/intermediate/processed_ingredients.json\", \"w+\") as outfile:\n",
    "    outfile.write(processed_ingredient_json)"
   ]
  }
 ],
 "metadata": {
  "kernelspec": {
   "display_name": ".venv",
   "language": "python",
   "name": "python3"
  },
  "language_info": {
   "codemirror_mode": {
    "name": "ipython",
    "version": 3
   },
   "file_extension": ".py",
   "mimetype": "text/x-python",
   "name": "python",
   "nbconvert_exporter": "python",
   "pygments_lexer": "ipython3",
   "version": "3.11.7"
  }
 },
 "nbformat": 4,
 "nbformat_minor": 2
}
