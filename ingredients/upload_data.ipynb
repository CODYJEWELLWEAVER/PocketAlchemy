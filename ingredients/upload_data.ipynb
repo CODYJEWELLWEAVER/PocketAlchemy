{
 "cells": [
  {
   "cell_type": "markdown",
   "metadata": {},
   "source": [
    "# Upload Batched Data To Firestore"
   ]
  },
  {
   "cell_type": "code",
   "execution_count": null,
   "metadata": {},
   "outputs": [],
   "source": [
    "import firebase_admin\n",
    "from firebase_admin import firestore, credentials\n",
    "import firebase_util\n",
    "import json\n",
    "\n",
    "INGREDIENT_COLLECTION = \"ingredients\""
   ]
  },
  {
   "cell_type": "code",
   "execution_count": null,
   "metadata": {},
   "outputs": [],
   "source": [
    "# load service key\n",
    "# private (not in git) method that loads firebase credentials\n",
    "cred = firebase_util.get_credentials() \n",
    "\n",
    "app = firebase_admin.initialize_app(cred)\n",
    "db = firebase_admin.firestore.client()"
   ]
  },
  {
   "cell_type": "markdown",
   "metadata": {},
   "source": [
    "Loads Batched Data Files"
   ]
  },
  {
   "cell_type": "code",
   "execution_count": null,
   "metadata": {},
   "outputs": [],
   "source": [
    "# lists batches to upload\n",
    "batch_numbers = range(0, 7)\n",
    "batched_data = list()\n",
    "# reads batch data into list \n",
    "for num in batch_numbers:\n",
    "    batch_file_path = \"data/final/batch_\" + str(num) + \"_ingredients.json\"\n",
    "    with open(batch_file_path) as in_file:\n",
    "        batched_data.append(json.load(in_file))"
   ]
  },
  {
   "cell_type": "markdown",
   "metadata": {},
   "source": [
    "Writes Data To Firestore"
   ]
  },
  {
   "cell_type": "code",
   "execution_count": null,
   "metadata": {},
   "outputs": [],
   "source": [
    "for batch in batched_data:\n",
    "    for ingredient in batch:\n",
    "        # creates new document and sets document data\n",
    "        db.collection(INGREDIENT_COLLECTION).document().set(ingredient)"
   ]
  }
 ],
 "metadata": {
  "kernelspec": {
   "display_name": ".venv",
   "language": "python",
   "name": "python3"
  },
  "language_info": {
   "codemirror_mode": {
    "name": "ipython",
    "version": 3
   },
   "file_extension": ".py",
   "mimetype": "text/x-python",
   "name": "python",
   "nbconvert_exporter": "python",
   "pygments_lexer": "ipython3",
   "version": "3.12.1"
  }
 },
 "nbformat": 4,
 "nbformat_minor": 2
}
