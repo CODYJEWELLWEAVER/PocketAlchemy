{
 "cells": [
  {
   "cell_type": "markdown",
   "metadata": {},
   "source": [
    "# Validate Ingredient Data"
   ]
  },
  {
   "cell_type": "markdown",
   "metadata": {},
   "source": [
    "Basic checks for data before uploading."
   ]
  },
  {
   "cell_type": "code",
   "execution_count": 1,
   "metadata": {},
   "outputs": [],
   "source": [
    "import json\n",
    "import math\n",
    "from constants import CATEGORY_KEY, CALORIES_KEY, DESCRIPTION_KEY, FDC_ID_KEY"
   ]
  },
  {
   "cell_type": "code",
   "execution_count": 2,
   "metadata": {},
   "outputs": [],
   "source": [
    "# load processed data\n",
    "processed_ingredient_file = open(\"data/intermediate/processed_ingredients.json\")\n",
    "\n",
    "processed_ingredient_data = json.load(processed_ingredient_file)\n",
    "\n",
    "processed_ingredient_file.close()"
   ]
  },
  {
   "cell_type": "code",
   "execution_count": 3,
   "metadata": {},
   "outputs": [],
   "source": [
    "# number of entries w/o caloric data (should be very low, < 0.01%)\n",
    "num_no_caloric = 0\n",
    "# number of entries w/o fdc id (should be 0)\n",
    "num_no_id = 0\n",
    "# number of entries w/o a desc. (should be 0)\n",
    "num_no_desc = 0\n",
    "# number of entries w/o category (should be 0)\n",
    "num_no_cat = 0\n",
    "\n",
    "for ingredient in processed_ingredient_data:\n",
    "    if not ingredient.get(CALORIES_KEY):\n",
    "        num_no_caloric += 1\n",
    "    if not ingredient.get(FDC_ID_KEY):\n",
    "        num_no_id += 1\n",
    "    if not ingredient.get(DESCRIPTION_KEY):\n",
    "        num_no_desc += 1\n",
    "    if not ingredient.get(CATEGORY_KEY):\n",
    "        num_no_cat += 1"
   ]
  },
  {
   "cell_type": "code",
   "execution_count": 4,
   "metadata": {},
   "outputs": [
    {
     "name": "stdout",
     "output_type": "stream",
     "text": [
      "INFO: number of entires w/o caloric data:  27\n",
      "INFO: number of entires w/o fdc id:  0\n",
      "INFO: number of entires w/o category:  0\n",
      "INFO: number of entires w/o description:  0\n"
     ]
    }
   ],
   "source": [
    "# print stats \n",
    "print(\"INFO: number of entires w/o caloric data: \", num_no_caloric)\n",
    "print(\"INFO: number of entires w/o fdc id: \", num_no_id)\n",
    "print(\"INFO: number of entires w/o category: \", num_no_cat)\n",
    "print(\"INFO: number of entires w/o description: \", num_no_desc)"
   ]
  },
  {
   "cell_type": "markdown",
   "metadata": {},
   "source": [
    "Write validated data if all checks pass. Writes in batches of 1000. Limit of 0.01 ingredients w/o caloric data.\n",
    "Limit was determined by analysis of data. May change in future versions."
   ]
  },
  {
   "cell_type": "code",
   "execution_count": 5,
   "metadata": {},
   "outputs": [],
   "source": [
    "# check before writing\n",
    "is_data_valid = False\n",
    "if num_no_caloric/len(processed_ingredient_data) <= 0.01:\n",
    "    if num_no_cat == 0 and num_no_desc == 0 and num_no_id == 0:\n",
    "        is_data_valid = True\n",
    "\n",
    "if is_data_valid == True:\n",
    "    entries_per_batch = 1000\n",
    "    num_entries = len(processed_ingredient_data)\n",
    "    num_batches = math.ceil(num_entries/entries_per_batch)\n",
    "\n",
    "    # write in batches of 1000 ingredients\n",
    "    for i in range(num_batches):\n",
    "        start_index = i * 1000\n",
    "        if i == num_batches - 1:\n",
    "            end_index = len(processed_ingredient_data)\n",
    "        else:\n",
    "            end_index = (i+1) * 1000\n",
    "        batch_ingredients = processed_ingredient_data[start_index:end_index]\n",
    "        # serialize batch\n",
    "        batch_json = json.dumps(batch_ingredients)\n",
    "        # writes batch to output file in data/final\n",
    "        output_filename = \"data/final/batch_\" + str(i) + \"_ingredients.json\"\n",
    "        with open(output_filename, \"w+\") as outfile:\n",
    "            outfile.write(batch_json)"
   ]
  }
 ],
 "metadata": {
  "kernelspec": {
   "display_name": ".venv",
   "language": "python",
   "name": "python3"
  },
  "language_info": {
   "codemirror_mode": {
    "name": "ipython",
    "version": 3
   },
   "file_extension": ".py",
   "mimetype": "text/x-python",
   "name": "python",
   "nbconvert_exporter": "python",
   "pygments_lexer": "ipython3",
   "version": "3.11.7"
  }
 },
 "nbformat": 4,
 "nbformat_minor": 2
}
