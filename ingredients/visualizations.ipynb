{
 "cells": [
  {
   "cell_type": "markdown",
   "metadata": {},
   "source": [
    "# Ingredient Data Visualizations"
   ]
  },
  {
   "cell_type": "code",
   "execution_count": 1,
   "metadata": {},
   "outputs": [],
   "source": [
    "import json\n",
    "import matplotlib.pyplot as plt\n",
    "import numpy as np\n",
    "from constants import CATEGORY_KEY, DESCRIPTION_KEY"
   ]
  },
  {
   "cell_type": "code",
   "execution_count": 2,
   "metadata": {},
   "outputs": [],
   "source": [
    "# reads processed data\n",
    "with open(\"data/intermediate/processed_ingredients.json\") as in_file:\n",
    "    processed_ingredient_data = json.load(in_file)"
   ]
  },
  {
   "cell_type": "code",
   "execution_count": 3,
   "metadata": {},
   "outputs": [],
   "source": [
    "# Groups by category\n",
    "categories = dict()\n",
    "\n",
    "for ingredient in processed_ingredient_data:\n",
    "    category = ingredient.get(CATEGORY_KEY)\n",
    "    description = ingredient.get(DESCRIPTION_KEY)\n",
    "\n",
    "    if category in categories:\n",
    "        ingredients_list = categories[category]\n",
    "        ingredients_list.append(ingredient)\n",
    "    else:\n",
    "        categories[category] = [ ingredient ]"
   ]
  },
  {
   "cell_type": "markdown",
   "metadata": {},
   "source": [
    "# Category Visualization\n",
    "Shows number of ingredients per category."
   ]
  },
  {
   "cell_type": "code",
   "execution_count": 4,
   "metadata": {},
   "outputs": [],
   "source": [
    "bins = []\n",
    "counts = []\n",
    "for key in categories.keys():\n",
    "    bins.append(str(key))\n",
    "    counts.append(len(categories[key]))\n",
    "    \n",
    "# histogram of category data\n",
    "plt.hist(bins, bins=np.arange(len(bins)+1)-0.5, weights=counts, color=\"green\", ec=\"black\")\n",
    "plt.xticks(rotation=\"vertical\")\n",
    "plt.xlabel(\"Category\")\n",
    "plt.ylabel(\"Ingredients In Category\")\n",
    "plt.title(\"Ingredients/Category for processed_ingredients.json\")\n",
    "plt.tight_layout()\n",
    "plt.savefig(\"visualizations/ingredients_per_category.png\")\n",
    "plt.close()"
   ]
  }
 ],
 "metadata": {
  "kernelspec": {
   "display_name": ".venv",
   "language": "python",
   "name": "python3"
  },
  "language_info": {
   "codemirror_mode": {
    "name": "ipython",
    "version": 3
   },
   "file_extension": ".py",
   "mimetype": "text/x-python",
   "name": "python",
   "nbconvert_exporter": "python",
   "pygments_lexer": "ipython3",
   "version": "3.11.7"
  }
 },
 "nbformat": 4,
 "nbformat_minor": 2
}
